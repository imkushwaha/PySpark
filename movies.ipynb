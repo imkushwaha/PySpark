{
 "cells": [
  {
   "cell_type": "code",
   "execution_count": 2,
   "metadata": {},
   "outputs": [],
   "source": [
    "from pyspark import SparkConf, SparkContext\n",
    "conf = SparkConf().setAppName(\"Movies_Rating\")\n",
    "sc = SparkContext.getOrCreate(conf=conf)"
   ]
  },
  {
   "cell_type": "code",
   "execution_count": 3,
   "metadata": {},
   "outputs": [],
   "source": [
    "rdd = sc.textFile(\"movie_ratings.csv\")"
   ]
  },
  {
   "cell_type": "code",
   "execution_count": 4,
   "metadata": {},
   "outputs": [
    {
     "name": "stderr",
     "output_type": "stream",
     "text": [
      "                                                                                \r"
     ]
    },
    {
     "data": {
      "text/plain": [
       "['The Shawshank Redemption,3',\n",
       " 'The Matrix,5',\n",
       " '12 Angry Men,3',\n",
       " '12 Angry Men,4',\n",
       " 'The Matrix,5',\n",
       " 'Pulp Fiction,4',\n",
       " 'The Godfather,5',\n",
       " 'The Shawshank Redemption,2',\n",
       " 'Pulp Fiction,4',\n",
       " 'The Godfather,5',\n",
       " '12 Angry Men,2',\n",
       " 'The Godfather,3',\n",
       " 'Pulp Fiction,4',\n",
       " '12 Angry Men,1',\n",
       " 'The Shawshank Redemption,2',\n",
       " '12 Angry Men,1',\n",
       " 'The Shawshank Redemption,5',\n",
       " 'Pulp Fiction,5',\n",
       " 'Pulp Fiction,2',\n",
       " 'The Matrix,4']"
      ]
     },
     "execution_count": 4,
     "metadata": {},
     "output_type": "execute_result"
    }
   ],
   "source": [
    "rdd.collect()"
   ]
  },
  {
   "cell_type": "code",
   "execution_count": 17,
   "metadata": {},
   "outputs": [],
   "source": [
    "rdd2 = rdd.map(lambda x:(x.split(\",\")[0], (int(x.split(\",\")[1]),1)))"
   ]
  },
  {
   "cell_type": "code",
   "execution_count": 18,
   "metadata": {},
   "outputs": [
    {
     "data": {
      "text/plain": [
       "[('The Shawshank Redemption', (3, 1)),\n",
       " ('The Matrix', (5, 1)),\n",
       " ('12 Angry Men', (3, 1)),\n",
       " ('12 Angry Men', (4, 1)),\n",
       " ('The Matrix', (5, 1)),\n",
       " ('Pulp Fiction', (4, 1)),\n",
       " ('The Godfather', (5, 1)),\n",
       " ('The Shawshank Redemption', (2, 1)),\n",
       " ('Pulp Fiction', (4, 1)),\n",
       " ('The Godfather', (5, 1)),\n",
       " ('12 Angry Men', (2, 1)),\n",
       " ('The Godfather', (3, 1)),\n",
       " ('Pulp Fiction', (4, 1)),\n",
       " ('12 Angry Men', (1, 1)),\n",
       " ('The Shawshank Redemption', (2, 1)),\n",
       " ('12 Angry Men', (1, 1)),\n",
       " ('The Shawshank Redemption', (5, 1)),\n",
       " ('Pulp Fiction', (5, 1)),\n",
       " ('Pulp Fiction', (2, 1)),\n",
       " ('The Matrix', (4, 1))]"
      ]
     },
     "execution_count": 18,
     "metadata": {},
     "output_type": "execute_result"
    }
   ],
   "source": [
    "rdd2.collect()"
   ]
  },
  {
   "cell_type": "code",
   "execution_count": 24,
   "metadata": {},
   "outputs": [
    {
     "data": {
      "text/plain": [
       "[('The Shawshank Redemption', [(3, 1), (2, 1), (2, 1), (5, 1)]),\n",
       " ('12 Angry Men', [(3, 1), (4, 1), (2, 1), (1, 1), (1, 1)]),\n",
       " ('The Godfather', [(5, 1), (5, 1), (3, 1)]),\n",
       " ('The Matrix', [(5, 1), (5, 1), (4, 1)]),\n",
       " ('Pulp Fiction', [(4, 1), (4, 1), (4, 1), (5, 1), (2, 1)])]"
      ]
     },
     "execution_count": 24,
     "metadata": {},
     "output_type": "execute_result"
    }
   ],
   "source": [
    "rdd2.groupByKey().mapValues(list).collect()"
   ]
  },
  {
   "cell_type": "code",
   "execution_count": 29,
   "metadata": {},
   "outputs": [],
   "source": [
    "rdd3 = rdd2.reduceByKey(lambda x,y: (x[0]+y[0], x[1]+y[1]))"
   ]
  },
  {
   "cell_type": "code",
   "execution_count": 30,
   "metadata": {},
   "outputs": [
    {
     "data": {
      "text/plain": [
       "[('The Shawshank Redemption', (12, 4)),\n",
       " ('12 Angry Men', (11, 5)),\n",
       " ('The Godfather', (13, 3)),\n",
       " ('The Matrix', (14, 3)),\n",
       " ('Pulp Fiction', (19, 5))]"
      ]
     },
     "execution_count": 30,
     "metadata": {},
     "output_type": "execute_result"
    }
   ],
   "source": [
    "rdd3.collect()"
   ]
  },
  {
   "cell_type": "code",
   "execution_count": 33,
   "metadata": {},
   "outputs": [
    {
     "data": {
      "text/plain": [
       "[('The Shawshank Redemption', 3.0),\n",
       " ('12 Angry Men', 2.2),\n",
       " ('The Godfather', 4.333333333333333),\n",
       " ('The Matrix', 4.666666666666667),\n",
       " ('Pulp Fiction', 3.8)]"
      ]
     },
     "execution_count": 33,
     "metadata": {},
     "output_type": "execute_result"
    }
   ],
   "source": [
    "# finding average\n",
    "rdd3.map(lambda x: (x[0], x[1][0]/x[1][1])).collect()"
   ]
  },
  {
   "cell_type": "code",
   "execution_count": 40,
   "metadata": {},
   "outputs": [
    {
     "data": {
      "text/plain": [
       "['The Shawshank Redemption,3',\n",
       " 'The Matrix,5',\n",
       " '12 Angry Men,3',\n",
       " '12 Angry Men,4',\n",
       " 'The Matrix,5',\n",
       " 'Pulp Fiction,4',\n",
       " 'The Godfather,5',\n",
       " 'The Shawshank Redemption,2',\n",
       " 'Pulp Fiction,4',\n",
       " 'The Godfather,5',\n",
       " '12 Angry Men,2',\n",
       " 'The Godfather,3',\n",
       " 'Pulp Fiction,4',\n",
       " '12 Angry Men,1',\n",
       " 'The Shawshank Redemption,2',\n",
       " '12 Angry Men,1',\n",
       " 'The Shawshank Redemption,5',\n",
       " 'Pulp Fiction,5',\n",
       " 'Pulp Fiction,2',\n",
       " 'The Matrix,4']"
      ]
     },
     "execution_count": 40,
     "metadata": {},
     "output_type": "execute_result"
    }
   ],
   "source": [
    "rdd.collect()"
   ]
  },
  {
   "cell_type": "code",
   "execution_count": 41,
   "metadata": {},
   "outputs": [],
   "source": [
    "rdd2 = rdd.map(lambda x:(x.split(\",\")[0], int(x.split(\",\")[1])))"
   ]
  },
  {
   "cell_type": "code",
   "execution_count": 42,
   "metadata": {},
   "outputs": [
    {
     "data": {
      "text/plain": [
       "[('The Shawshank Redemption', 3),\n",
       " ('The Matrix', 5),\n",
       " ('12 Angry Men', 3),\n",
       " ('12 Angry Men', 4),\n",
       " ('The Matrix', 5),\n",
       " ('Pulp Fiction', 4),\n",
       " ('The Godfather', 5),\n",
       " ('The Shawshank Redemption', 2),\n",
       " ('Pulp Fiction', 4),\n",
       " ('The Godfather', 5),\n",
       " ('12 Angry Men', 2),\n",
       " ('The Godfather', 3),\n",
       " ('Pulp Fiction', 4),\n",
       " ('12 Angry Men', 1),\n",
       " ('The Shawshank Redemption', 2),\n",
       " ('12 Angry Men', 1),\n",
       " ('The Shawshank Redemption', 5),\n",
       " ('Pulp Fiction', 5),\n",
       " ('Pulp Fiction', 2),\n",
       " ('The Matrix', 4)]"
      ]
     },
     "execution_count": 42,
     "metadata": {},
     "output_type": "execute_result"
    }
   ],
   "source": [
    "rdd2.collect()"
   ]
  },
  {
   "cell_type": "code",
   "execution_count": 45,
   "metadata": {},
   "outputs": [
    {
     "data": {
      "text/plain": [
       "[('The Shawshank Redemption', 2),\n",
       " ('12 Angry Men', 1),\n",
       " ('The Godfather', 3),\n",
       " ('The Matrix', 4),\n",
       " ('Pulp Fiction', 2)]"
      ]
     },
     "execution_count": 45,
     "metadata": {},
     "output_type": "execute_result"
    }
   ],
   "source": [
    "# finding minimum rating of a movie\n",
    "min_rating = rdd2.reduceByKey(lambda x,y: x if x<y else y)\n",
    "min_rating.collect()"
   ]
  },
  {
   "cell_type": "code",
   "execution_count": 46,
   "metadata": {},
   "outputs": [
    {
     "data": {
      "text/plain": [
       "[('The Shawshank Redemption', 5),\n",
       " ('12 Angry Men', 4),\n",
       " ('The Godfather', 5),\n",
       " ('The Matrix', 5),\n",
       " ('Pulp Fiction', 5)]"
      ]
     },
     "execution_count": 46,
     "metadata": {},
     "output_type": "execute_result"
    }
   ],
   "source": [
    "# finding maximum rating of a movie\n",
    "max_rating = rdd2.reduceByKey(lambda x,y: x if x>y else y)\n",
    "max_rating.collect()"
   ]
  },
  {
   "cell_type": "code",
   "execution_count": null,
   "metadata": {},
   "outputs": [],
   "source": []
  },
  {
   "cell_type": "code",
   "execution_count": null,
   "metadata": {},
   "outputs": [],
   "source": []
  }
 ],
 "metadata": {
  "kernelspec": {
   "display_name": "Python 3.8.10 64-bit",
   "language": "python",
   "name": "python3"
  },
  "language_info": {
   "codemirror_mode": {
    "name": "ipython",
    "version": 3
   },
   "file_extension": ".py",
   "mimetype": "text/x-python",
   "name": "python",
   "nbconvert_exporter": "python",
   "pygments_lexer": "ipython3",
   "version": "3.8.10"
  },
  "orig_nbformat": 4,
  "vscode": {
   "interpreter": {
    "hash": "e7370f93d1d0cde622a1f8e1c04877d8463912d04d973331ad4851f04de6915a"
   }
  }
 },
 "nbformat": 4,
 "nbformat_minor": 2
}
